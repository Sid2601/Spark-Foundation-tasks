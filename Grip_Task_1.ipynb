{
  "nbformat": 4,
  "nbformat_minor": 0,
  "metadata": {
    "colab": {
      "name": "Grip Task-1.ipynb",
      "provenance": [],
      "authorship_tag": "ABX9TyO5mySNmgFKyCzSDDDPK+qu",
      "include_colab_link": true
    },
    "kernelspec": {
      "name": "python3",
      "display_name": "Python 3"
    },
    "accelerator": "GPU"
  },
  "cells": [
    {
      "cell_type": "markdown",
      "metadata": {
        "id": "view-in-github",
        "colab_type": "text"
      },
      "source": [
        "<a href=\"https://colab.research.google.com/github/Sid2601/Spark-Foundation-tasks/blob/main/Grip_Task_1.ipynb\" target=\"_parent\"><img src=\"https://colab.research.google.com/assets/colab-badge.svg\" alt=\"Open In Colab\"/></a>"
      ]
    },
    {
      "cell_type": "markdown",
      "metadata": {
        "id": "XfotgssXsTkS"
      },
      "source": [
        "#Sparks Foundation"
      ]
    },
    {
      "cell_type": "markdown",
      "metadata": {
        "id": "3X-RNupWs9Mq"
      },
      "source": [
        "#Name - Siddharth Shah"
      ]
    },
    {
      "cell_type": "markdown",
      "metadata": {
        "id": "QwO8s8ABtMj8"
      },
      "source": [
        "Task: Predict the percentage of marks of an student based on the number of\n",
        "study hours"
      ]
    },
    {
      "cell_type": "markdown",
      "metadata": {
        "id": "YvzgtjJItVIF"
      },
      "source": [
        "#importing libraries"
      ]
    },
    {
      "cell_type": "code",
      "metadata": {
        "id": "u4mD0zCMUToL"
      },
      "source": [
        "import pandas as pd    # for data reading \n",
        "import matplotlib.pyplot as plt  # for plotting graph\n",
        "%matplotlib inline\n",
        "from sklearn.linear_model import LinearRegression # for our main regression task\n",
        "from sklearn import metrics  # fro rvaluating model"
      ],
      "execution_count": 31,
      "outputs": []
    },
    {
      "cell_type": "markdown",
      "metadata": {
        "id": "mugeC83atfyk"
      },
      "source": [
        "#Read Data"
      ]
    },
    {
      "cell_type": "code",
      "metadata": {
        "id": "vVqJu6dHtbur",
        "outputId": "44d434de-8e7f-4415-a081-3167f22a05c2",
        "colab": {
          "base_uri": "https://localhost:8080/",
          "height": 479
        }
      },
      "source": [
        "data = pd.read_csv('http://bit.ly/w-data')\n",
        "print(data)"
      ],
      "execution_count": 2,
      "outputs": [
        {
          "output_type": "stream",
          "text": [
            "    Hours  Scores\n",
            "0     2.5      21\n",
            "1     5.1      47\n",
            "2     3.2      27\n",
            "3     8.5      75\n",
            "4     3.5      30\n",
            "5     1.5      20\n",
            "6     9.2      88\n",
            "7     5.5      60\n",
            "8     8.3      81\n",
            "9     2.7      25\n",
            "10    7.7      85\n",
            "11    5.9      62\n",
            "12    4.5      41\n",
            "13    3.3      42\n",
            "14    1.1      17\n",
            "15    8.9      95\n",
            "16    2.5      30\n",
            "17    1.9      24\n",
            "18    6.1      67\n",
            "19    7.4      69\n",
            "20    2.7      30\n",
            "21    4.8      54\n",
            "22    3.8      35\n",
            "23    6.9      76\n",
            "24    7.8      86\n"
          ],
          "name": "stdout"
        }
      ]
    },
    {
      "cell_type": "markdown",
      "metadata": {
        "id": "tZzqO_DutpUg"
      },
      "source": [
        "#Plot The Data"
      ]
    },
    {
      "cell_type": "code",
      "metadata": {
        "id": "NJjC9yCXtjwI",
        "outputId": "4fae7a2d-30e1-495d-d4c8-503d9fab9cac",
        "colab": {
          "base_uri": "https://localhost:8080/",
          "height": 295
        }
      },
      "source": [
        "data.plot(x='Hours', y='Scores',style='o', label = \"Score\")\n",
        "plt.xlabel('Studied Hours')\n",
        "plt.ylabel('Scores of students')\n",
        "plt.title('Hours VS Scores')\n",
        "plt.legend()\n",
        "plt.show()"
      ],
      "execution_count": 10,
      "outputs": [
        {
          "output_type": "display_data",
          "data": {
            "image/png": "[encoded data removed]",
            "text/plain": [
              "<Figure size 432x288 with 1 Axes>"
            ]
          },
          "metadata": {
            "tags": [],
            "needs_background": "light"
          }
        }
      ]
    },
    {
      "cell_type": "code",
      "metadata": {
        "id": "RxWZHWTUt0VC"
      },
      "source": [
        "X = data[['Hours']]\n",
        "y = data['Scores']"
      ],
      "execution_count": 18,
      "outputs": []
    },
    {
      "cell_type": "code",
      "metadata": {
        "id": "hpQb6ax7uKlR"
      },
      "source": [
        "train_data ,test_data = X[:20] , X[20:]\n",
        "train_label,test_label = y[:20] , y[20:]"
      ],
      "execution_count": 19,
      "outputs": []
    },
    {
      "cell_type": "markdown",
      "metadata": {
        "id": "v38duj40u1ZK"
      },
      "source": [
        "#Plot Training Data"
      ]
    },
    {
      "cell_type": "code",
      "metadata": {
        "id": "hXWWMufXuhTw",
        "outputId": "e7eb01f8-7175-4b47-e6ac-0c92ff9cc2da",
        "colab": {
          "base_uri": "https://localhost:8080/",
          "height": 295
        }
      },
      "source": [
        "plt.scatter(train_data,train_label,color='b')\n",
        "plt.xlabel('Study Hours')\n",
        "plt.ylabel('Scores of students')\n",
        "plt.title('Hours VS Scores of Training Set')\n",
        "plt.show()"
      ],
      "execution_count": 20,
      "outputs": [
        {
          "output_type": "display_data",
          "data": {
            "image/png": "[encoded data removed]",
            "text/plain": [
              "<Figure size 432x288 with 1 Axes>"
            ]
          },
          "metadata": {
            "tags": [],
            "needs_background": "light"
          }
        }
      ]
    },
    {
      "cell_type": "markdown",
      "metadata": {
        "id": "mfIbBBnhviCT"
      },
      "source": [
        "#Linear Regression"
      ]
    },
    {
      "cell_type": "code",
      "metadata": {
        "id": "ADcH5_PFu7po",
        "outputId": "eb5b40b0-6ba4-4216-c494-6f0e809e9fac",
        "colab": {
          "base_uri": "https://localhost:8080/",
          "height": 35
        }
      },
      "source": [
        "lin_reg = LinearRegression()\n",
        "lin_reg.fit(train_data,train_label)\n"
      ],
      "execution_count": 21,
      "outputs": [
        {
          "output_type": "execute_result",
          "data": {
            "text/plain": [
              "LinearRegression(copy_X=True, fit_intercept=True, n_jobs=None, normalize=False)"
            ]
          },
          "metadata": {
            "tags": []
          },
          "execution_count": 21
        }
      ]
    },
    {
      "cell_type": "markdown",
      "metadata": {
        "id": "BwZ8vHhJwBfE"
      },
      "source": [
        "#Plot The Regression Line"
      ]
    },
    {
      "cell_type": "code",
      "metadata": {
        "id": "u16vaAbmvvSO",
        "outputId": "7923a27e-cc78-49b3-f6bf-a4d093a8a418",
        "colab": {
          "base_uri": "https://localhost:8080/",
          "height": 265
        }
      },
      "source": [
        "reg_line = lin_reg.intercept_ + lin_reg.coef_*train_data \n",
        "\n",
        "plt.scatter(train_data, train_label,color='r')\n",
        "plt.plot(train_data, reg_line)\n",
        "plt.show()"
      ],
      "execution_count": 26,
      "outputs": [
        {
          "output_type": "display_data",
          "data": {
            "image/png": "[encoded data removed]",
            "text/plain": [
              "<Figure size 432x288 with 1 Axes>"
            ]
          },
          "metadata": {
            "tags": [],
            "needs_background": "light"
          }
        }
      ]
    },
    {
      "cell_type": "markdown",
      "metadata": {
        "id": "J-bjKdVCw4zX"
      },
      "source": [
        "#prediction"
      ]
    },
    {
      "cell_type": "code",
      "metadata": {
        "id": "H0SRm5BxwRIt",
        "outputId": "aa53179c-5b03-468e-d93f-ebb48c17bc6a",
        "colab": {
          "base_uri": "https://localhost:8080/",
          "height": 124
        }
      },
      "source": [
        "predicted_value = lin_reg.predict(test_data)\n",
        "df = pd.DataFrame({'Predicted Score':predicted_value, 'Actual Score':test_label})\n",
        "print(df)\n"
      ],
      "execution_count": 27,
      "outputs": [
        {
          "output_type": "stream",
          "text": [
            "    Predicted Score  Actual Score\n",
            "20        28.736325            30\n",
            "21        48.729136            54\n",
            "22        39.208750            35\n",
            "23        68.721947            76\n",
            "24        77.290295            86\n"
          ],
          "name": "stdout"
        }
      ]
    },
    {
      "cell_type": "markdown",
      "metadata": {
        "id": "c63QARNDxKl9"
      },
      "source": [
        "#Test Data"
      ]
    },
    {
      "cell_type": "code",
      "metadata": {
        "id": "__UbQ4CPxCMn",
        "outputId": "9fe2682e-f10b-4a51-b470-fcc4ba3bc94d",
        "colab": {
          "base_uri": "https://localhost:8080/",
          "height": 52
        }
      },
      "source": [
        "hours = 9.25\n",
        "pred_hours = lin_reg.predict([[hours]])\n",
        "print(\"No of Hours Studied by student = \" + str(hours))\n",
        "print(\"Predicted Score = \" +str(pred_hours[0]))"
      ],
      "execution_count": 29,
      "outputs": [
        {
          "output_type": "stream",
          "text": [
            "No of Hours Studied by student = 9.25\n",
            "Predicted Score = 91.09485441683265\n"
          ],
          "name": "stdout"
        }
      ]
    },
    {
      "cell_type": "code",
      "metadata": {
        "id": "q1O7feZ5xaD1",
        "outputId": "946f7abf-502d-4717-fabc-08323c7a4e68",
        "colab": {
          "base_uri": "https://localhost:8080/",
          "height": 52
        }
      },
      "source": [
        "print('Mean Absolute Error:', metrics.mean_absolute_error(test_label, predicted_value)) \n",
        "print('R squared value:',metrics.r2_score(test_label,predicted_value))\n"
      ],
      "execution_count": 32,
      "outputs": [
        {
          "output_type": "stream",
          "text": [
            "Mean Absolute Error: 5.346209347444651\n",
            "R squared value: 0.9273291976521455\n"
          ],
          "name": "stdout"
        }
      ]
    },
    {
      "cell_type": "code",
      "metadata": {
        "id": "p716-Q_gx49g"
      },
      "source": [
        ""
      ],
      "execution_count": null,
      "outputs": []
    }
  ]
}